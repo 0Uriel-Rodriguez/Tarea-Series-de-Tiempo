{
  "nbformat": 4,
  "nbformat_minor": 0,
  "metadata": {
    "colab": {
      "provenance": [],
      "gpuType": "T4"
    },
    "kernelspec": {
      "name": "python3",
      "display_name": "Python 3"
    },
    "language_info": {
      "name": "python"
    },
    "accelerator": "GPU"
  },
  "cells": [
    {
      "cell_type": "code",
      "execution_count": 1,
      "metadata": {
        "colab": {
          "base_uri": "https://localhost:8080/"
        },
        "id": "4hA7sBYeyB3R",
        "outputId": "770aa094-b899-4790-d626-b2fef2e4840e"
      },
      "outputs": [
        {
          "output_type": "stream",
          "name": "stdout",
          "text": [
            "--2023-10-31 21:21:35--  https://s3.amazonaws.com/keras-datasets/jena_climate_2009_2016.csv.zip\n",
            "Resolving s3.amazonaws.com (s3.amazonaws.com)... 52.217.167.32, 52.217.205.64, 54.231.134.112, ...\n",
            "Connecting to s3.amazonaws.com (s3.amazonaws.com)|52.217.167.32|:443... connected.\n",
            "HTTP request sent, awaiting response... 200 OK\n",
            "Length: 13565642 (13M) [application/zip]\n",
            "Saving to: ‘jena_climate_2009_2016.csv.zip’\n",
            "\n",
            "jena_climate_2009_2 100%[===================>]  12.94M  48.7MB/s    in 0.3s    \n",
            "\n",
            "2023-10-31 21:21:35 (48.7 MB/s) - ‘jena_climate_2009_2016.csv.zip’ saved [13565642/13565642]\n",
            "\n",
            "Archive:  jena_climate_2009_2016.csv.zip\n",
            "  inflating: jena_climate_2009_2016.csv  \n",
            "  inflating: __MACOSX/._jena_climate_2009_2016.csv  \n"
          ]
        }
      ],
      "source": [
        "!wget https://s3.amazonaws.com/keras-datasets/jena_climate_2009_2016.csv.zip\n",
        "!unzip jena_climate_2009_2016.csv.zip"
      ]
    },
    {
      "cell_type": "code",
      "source": [
        "import os\n",
        "fname = os.path.join(\"jena_climate_2009_2016.csv\")\n",
        "with open(fname) as f:\n",
        "   data = f.read()\n",
        "\n",
        "lines = data.split(\"\\n\")\n",
        "header = lines[0].split(\",\")\n",
        "lines = lines[1:]\n",
        "print(header)\n",
        "print(len(lines))"
      ],
      "metadata": {
        "colab": {
          "base_uri": "https://localhost:8080/"
        },
        "id": "conlCg8gyGY7",
        "outputId": "bd6a7bff-bb78-40b6-952f-cd29cd92c640"
      },
      "execution_count": 2,
      "outputs": [
        {
          "output_type": "stream",
          "name": "stdout",
          "text": [
            "['\"Date Time\"', '\"p (mbar)\"', '\"T (degC)\"', '\"Tpot (K)\"', '\"Tdew (degC)\"', '\"rh (%)\"', '\"VPmax (mbar)\"', '\"VPact (mbar)\"', '\"VPdef (mbar)\"', '\"sh (g/kg)\"', '\"H2OC (mmol/mol)\"', '\"rho (g/m**3)\"', '\"wv (m/s)\"', '\"max. wv (m/s)\"', '\"wd (deg)\"']\n",
            "420451\n"
          ]
        }
      ]
    },
    {
      "cell_type": "code",
      "source": [
        "import numpy as np\n",
        "temperature = np.zeros((len(lines),))\n",
        "raw_data = np.zeros((len(lines), len(header) - 1))\n",
        "for i, line in enumerate(lines):\n",
        "  values = [float(x) for x in line.split(\",\")[1:]]\n",
        "  temperature[i] = values[1]\n",
        "  raw_data[i, :] = values[:]"
      ],
      "metadata": {
        "id": "cZu-49x1yJFV"
      },
      "execution_count": 3,
      "outputs": []
    },
    {
      "cell_type": "code",
      "source": [
        "import numpy as np\n",
        "from tensorflow import keras\n",
        "\n",
        "# Supongamos que tienes tus datos de temperatura en un array llamado 'temperature'.\n",
        "\n",
        "# Define la longitud de las secuencias y el retraso (delay)\n",
        "sequence_length = 120  # Longitud de las secuencias\n",
        "delay = 10  # Número de pasos en el futuro para predecir la temperatura\n",
        "\n",
        "# Configura otras variables\n",
        "sampling_rate = 1  # Tasa de muestreo (cada 10 minutos)\n",
        "batch_size = 32  # Tamaño del lote\n",
        "num_train_samples = int(len(temperature)/2)  # Número de muestras de entrenamiento\n",
        "num_val_samples = int(len(temperature)/4)  # Número de muestras de validación\n",
        "\n",
        "# Crea el conjunto de datos de series temporales\n",
        "val_dataset = keras.utils.timeseries_dataset_from_array(\n",
        "    data=temperature[:-delay],\n",
        "    targets=temperature[delay:],\n",
        "    sampling_rate=sampling_rate,\n",
        "    sequence_length=sequence_length,\n",
        "    shuffle=True,\n",
        "    batch_size=batch_size,\n",
        "    start_index=num_train_samples,\n",
        "    end_index=num_train_samples + num_val_samples)\n",
        "\n",
        "\n",
        "train_dataset = keras.utils.timeseries_dataset_from_array(\n",
        "    data=temperature[:-delay],\n",
        "    targets=temperature[delay:],\n",
        "    sampling_rate=sampling_rate,\n",
        "    sequence_length=sequence_length,\n",
        "    shuffle=True,\n",
        "    batch_size=batch_size,\n",
        "    start_index=0,\n",
        "    end_index=num_train_samples)\n",
        "\n",
        "test_dataset = keras.utils.timeseries_dataset_from_array(\n",
        "    data=temperature[:-delay],\n",
        "    targets=temperature[delay:],\n",
        "    sampling_rate=sampling_rate,\n",
        "    sequence_length=sequence_length,\n",
        "    shuffle=True,\n",
        "    batch_size=batch_size,\n",
        "    start_index=num_train_samples + num_val_samples,\n",
        "    end_index=len(temperature)-sequence_length)\n",
        "\n",
        "\n"
      ],
      "metadata": {
        "id": "5pnavYhwyLwy"
      },
      "execution_count": 7,
      "outputs": []
    },
    {
      "cell_type": "code",
      "source": [
        "from tensorflow import keras\n",
        "from tensorflow.keras import layers\n",
        "\n",
        "# Construir el modelo\n",
        "model = keras.Sequential()\n",
        "ks = 10\n",
        "model.add(layers.Conv1D(filters=32,kernel_size=ks, padding='causal', dilation_rate=1, input_shape=(None, 1)))\n",
        "model.add(layers.MaxPooling1D(2))\n",
        "model.add(layers.Conv1D(filters=32,kernel_size=ks, padding='causal', dilation_rate=2))\n",
        "model.add(layers.MaxPooling1D(2))\n",
        "model.add(layers.Conv1D(filters=32,kernel_size=ks, padding='causal', dilation_rate=4))\n",
        "model.add(layers.GlobalMaxPooling1D())\n",
        "model.add(layers.Dense(64, activation='relu'))\n",
        "model.add(layers.Dense(1))\n",
        "\n",
        "# Compilar el modelo\n",
        "model.summary()\n",
        "model.compile(optimizer='adam', loss='mse')\n",
        "\n",
        "\n",
        "# Entrenar el modelo\n",
        "history = model.fit(train_dataset, epochs=15, validation_data=val_dataset)"
      ],
      "metadata": {
        "colab": {
          "base_uri": "https://localhost:8080/"
        },
        "id": "QupXu7ri3L1B",
        "outputId": "4af411ac-8d5c-4867-caa5-08a5af6dec8b"
      },
      "execution_count": 16,
      "outputs": [
        {
          "output_type": "stream",
          "name": "stdout",
          "text": [
            "Model: \"sequential_6\"\n",
            "_________________________________________________________________\n",
            " Layer (type)                Output Shape              Param #   \n",
            "=================================================================\n",
            " conv1d_18 (Conv1D)          (None, None, 32)          352       \n",
            "                                                                 \n",
            " max_pooling1d_12 (MaxPooli  (None, None, 32)          0         \n",
            " ng1D)                                                           \n",
            "                                                                 \n",
            " conv1d_19 (Conv1D)          (None, None, 32)          10272     \n",
            "                                                                 \n",
            " max_pooling1d_13 (MaxPooli  (None, None, 32)          0         \n",
            " ng1D)                                                           \n",
            "                                                                 \n",
            " conv1d_20 (Conv1D)          (None, None, 32)          10272     \n",
            "                                                                 \n",
            " global_max_pooling1d_6 (Gl  (None, 32)                0         \n",
            " obalMaxPooling1D)                                               \n",
            "                                                                 \n",
            " dense_12 (Dense)            (None, 64)                2112      \n",
            "                                                                 \n",
            " dense_13 (Dense)            (None, 1)                 65        \n",
            "                                                                 \n",
            "=================================================================\n",
            "Total params: 23073 (90.13 KB)\n",
            "Trainable params: 23073 (90.13 KB)\n",
            "Non-trainable params: 0 (0.00 Byte)\n",
            "_________________________________________________________________\n",
            "Epoch 1/15\n",
            "6566/6566 [==============================] - 88s 12ms/step - loss: 0.1711 - val_loss: 0.0125\n",
            "Epoch 2/15\n",
            "6566/6566 [==============================] - 72s 11ms/step - loss: 0.0195 - val_loss: 0.0044\n",
            "Epoch 3/15\n",
            "6566/6566 [==============================] - 68s 10ms/step - loss: 0.0138 - val_loss: 0.0034\n",
            "Epoch 4/15\n",
            "6566/6566 [==============================] - 69s 11ms/step - loss: 0.0093 - val_loss: 0.0203\n",
            "Epoch 5/15\n",
            "6566/6566 [==============================] - 72s 11ms/step - loss: 0.0071 - val_loss: 0.0019\n",
            "Epoch 6/15\n",
            "6566/6566 [==============================] - 72s 11ms/step - loss: 0.0070 - val_loss: 0.0013\n",
            "Epoch 7/15\n",
            "6566/6566 [==============================] - 67s 10ms/step - loss: 0.0060 - val_loss: 0.0012\n",
            "Epoch 8/15\n",
            "6566/6566 [==============================] - 69s 10ms/step - loss: 0.0049 - val_loss: 0.0011\n",
            "Epoch 9/15\n",
            "6566/6566 [==============================] - 67s 10ms/step - loss: 0.0043 - val_loss: 0.0038\n",
            "Epoch 10/15\n",
            "6566/6566 [==============================] - 66s 10ms/step - loss: 0.0056 - val_loss: 0.0015\n",
            "Epoch 11/15\n",
            "6566/6566 [==============================] - 72s 11ms/step - loss: 0.0035 - val_loss: 0.0034\n",
            "Epoch 12/15\n",
            "6566/6566 [==============================] - 70s 11ms/step - loss: 0.0299 - val_loss: 0.0020\n",
            "Epoch 13/15\n",
            "6566/6566 [==============================] - 70s 11ms/step - loss: 0.0336 - val_loss: 0.0033\n",
            "Epoch 14/15\n",
            "6566/6566 [==============================] - 70s 11ms/step - loss: 0.0031 - val_loss: 0.0012\n",
            "Epoch 15/15\n",
            "6566/6566 [==============================] - 70s 11ms/step - loss: 0.0034 - val_loss: 9.4745e-04\n"
          ]
        }
      ]
    },
    {
      "cell_type": "code",
      "source": [
        "val_dataset = keras.utils.timeseries_dataset_from_array(\n",
        "    data=raw_data[:-delay], #notar que ahora la serie en x son las demás columnas de los datos\n",
        "    targets=temperature[delay:],\n",
        "    sampling_rate=sampling_rate,\n",
        "    sequence_length=sequence_length,\n",
        "    shuffle=True,\n",
        "    batch_size=batch_size,\n",
        "    start_index=num_train_samples,\n",
        "    end_index=num_train_samples + num_val_samples)\n",
        "\n"
      ],
      "metadata": {
        "id": "2R5YGztNthq8"
      },
      "execution_count": null,
      "outputs": []
    },
    {
      "cell_type": "code",
      "source": [
        "loss = history.history['loss']\n",
        "val_loss = history.history['val_loss']\n"
      ],
      "metadata": {
        "id": "kZ5_SLWp5jv5"
      },
      "execution_count": 17,
      "outputs": []
    },
    {
      "cell_type": "code",
      "source": [
        "import matplotlib.pyplot as plt\n",
        "\n",
        "plt.plot(loss, label='Training Loss')\n",
        "plt.plot(val_loss, label='Validation Loss')\n",
        "plt.title('Loss')\n",
        "plt.legend()\n",
        "plt.show()\n"
      ],
      "metadata": {
        "colab": {
          "base_uri": "https://localhost:8080/",
          "height": 452
        },
        "id": "f_7jIKqS5qPk",
        "outputId": "bd23b02f-5099-452d-cd10-2664ace878d1"
      },
      "execution_count": 18,
      "outputs": [
        {
          "output_type": "display_data",
          "data": {
            "text/plain": [
              "<Figure size 640x480 with 1 Axes>"
            ],
            "image/png": "[encoded data removed]"
          },
          "metadata": {}
        }
      ]
    }
  ]
}